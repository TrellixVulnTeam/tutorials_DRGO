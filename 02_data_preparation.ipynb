{
 "cells": [
  {
   "cell_type": "markdown",
   "metadata": {},
   "source": [
    "# Tutorial 2: Data Preparation for building machine learning models\n",
    "\n",
    "In this notebook, we will demonstrate how to prepare test and training data sets from a single file _creditcard.csv_.\n",
    "\n",
    "## Steps:\n",
    "\n",
    "- Load _creditcard.csv_ into a pandas dataframe\n",
    "- Use sklearn **train_test_split** function along with **stratify** option to split this imbalanced data into test and train data sets\n",
    "- Save the data frames into two separate files: _credit_card_train.csv_ , _credit_card_test.csv_"
   ]
  },
  {
   "cell_type": "code",
   "execution_count": 1,
   "metadata": {},
   "outputs": [],
   "source": [
    "import pandas as pd\n",
    "from sklearn.model_selection   import  train_test_split"
   ]
  },
  {
   "cell_type": "code",
   "execution_count": 2,
   "metadata": {},
   "outputs": [],
   "source": [
    "full_path = 'creditcard.csv'\n",
    "# load the dataset\n",
    "data = pd.read_csv(full_path, header=None)\n",
    "y = data.values[:,-1]"
   ]
  },
  {
   "cell_type": "code",
   "execution_count": 3,
   "metadata": {},
   "outputs": [],
   "source": [
    "df_train,df_test = train_test_split(data,test_size=0.2,stratify=y,random_state=42)"
   ]
  },
  {
   "cell_type": "code",
   "execution_count": 4,
   "metadata": {},
   "outputs": [],
   "source": [
    "column_names = [\"V\"+str(i) for i in range(30)]\n",
    "column_names.append(\"Target\")"
   ]
  },
  {
   "cell_type": "code",
   "execution_count": 5,
   "metadata": {},
   "outputs": [],
   "source": [
    "df_train.columns = column_names\n",
    "df_test.columns  = column_names"
   ]
  },
  {
   "cell_type": "code",
   "execution_count": 6,
   "metadata": {},
   "outputs": [],
   "source": [
    "df_train.to_csv(\"credit_card_train.csv\",index=False)\n",
    "df_test.to_csv(\"credit_card_test.csv\",index=False)"
   ]
  }
 ],
 "metadata": {
  "kernelspec": {
   "display_name": "Python 3",
   "language": "python",
   "name": "python3"
  },
  "language_info": {
   "codemirror_mode": {
    "name": "ipython",
    "version": 3
   },
   "file_extension": ".py",
   "mimetype": "text/x-python",
   "name": "python",
   "nbconvert_exporter": "python",
   "pygments_lexer": "ipython3",
   "version": "3.7.6"
  }
 },
 "nbformat": 4,
 "nbformat_minor": 4
}
