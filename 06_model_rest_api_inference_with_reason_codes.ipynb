{
 "cells": [
  {
   "cell_type": "markdown",
   "metadata": {},
   "source": [
    "## Import Libraries"
   ]
  },
  {
   "cell_type": "code",
   "execution_count": 1,
   "metadata": {},
   "outputs": [],
   "source": [
    "import requests\n",
    "import pandas as pd\n",
    "import numpy as np"
   ]
  },
  {
   "cell_type": "markdown",
   "metadata": {},
   "source": [
    "## Get test data"
   ]
  },
  {
   "cell_type": "code",
   "execution_count": 2,
   "metadata": {},
   "outputs": [],
   "source": [
    "input_df = pd.read_csv(\"credit_card_test.csv\")\n",
    "y_test = input_df[\"Target\"]\n",
    "X_test = input_df.drop([\"Target\"],axis=1)"
   ]
  },
  {
   "cell_type": "markdown",
   "metadata": {},
   "source": [
    "## Test REST API Endpoint"
   ]
  },
  {
   "cell_type": "code",
   "execution_count": 3,
   "metadata": {},
   "outputs": [],
   "source": [
    "url = \"https://swxx2f5.rmlpoc.net/invocations\"\n",
    "input_data = X_test.head(1)\n",
    "data_json = input_data.to_json(orient=\"split\",index=False)\n",
    "headers = {\"Content-Type\":\"application/json; format=pandas-split\"}\n",
    "response = requests.post(url,data=data_json,headers=headers)"
   ]
  },
  {
   "cell_type": "code",
   "execution_count": 4,
   "metadata": {},
   "outputs": [
    {
     "data": {
      "text/plain": [
       "{'predictions': [0],\n",
       " 'shap_values': [[[0.19515185719870112, -0.19515185719870112],\n",
       "   [0.05375848408230767, -0.05375848408230767],\n",
       "   [-0.020164121004151308, 0.020164121004151308],\n",
       "   [-0.8226978639628519, 0.8226978639628519],\n",
       "   [3.873670442635973, -3.873670442635973],\n",
       "   [0.30253725766708783, -0.30253725766708783],\n",
       "   [0.20829811937528736, -0.20829811937528736],\n",
       "   [-0.3160794673062041, 0.3160794673062041],\n",
       "   [-0.3915086268955023, 0.3915086268955023],\n",
       "   [0.038236822148762, -0.038236822148762],\n",
       "   [1.4263280362025115, -1.4263280362025115],\n",
       "   [0.3642236415745397, -0.3642236415745397],\n",
       "   [-0.19067554871576903, 0.19067554871576903],\n",
       "   [-0.10376810501835333, 0.10376810501835333],\n",
       "   [0.8996668713719236, -0.8996668713719236],\n",
       "   [-0.025800820185442372, 0.025800820185442372],\n",
       "   [-0.12301369846816063, 0.12301369846816063],\n",
       "   [-0.015001007383485027, 0.015001007383485027],\n",
       "   [0.0803474515148013, -0.0803474515148013],\n",
       "   [0.13604221857806909, -0.13604221857806909],\n",
       "   [0.13846730253360018, -0.13846730253360018],\n",
       "   [-0.01509085657505897, 0.01509085657505897],\n",
       "   [-0.09190087488319688, 0.09190087488319688],\n",
       "   [0.04523832433677581, -0.04523832433677581],\n",
       "   [-0.0008817767979231812, 0.0008817767979231812],\n",
       "   [0.09946863967979999, -0.09946863967979999],\n",
       "   [0.4131257420397127, -0.4131257420397127],\n",
       "   [0.023008691543065233, -0.023008691543065233],\n",
       "   [-0.03163968280028827, 0.03163968280028827],\n",
       "   [0.14186038345696275, -0.14186038345696275]]],\n",
       " 'shap_base_values': [[-0.5091842845674064, 0.5091842845674064]],\n",
       " 'shap_data': [[1.3871815012213498,\n",
       "   -0.3447108259512301,\n",
       "   0.8541602300634021,\n",
       "   -0.732691264567897,\n",
       "   -0.9381876235335939,\n",
       "   1.0067088338619568,\n",
       "   -0.9820112324075397,\n",
       "   1.5227386129334237,\n",
       "   -0.515157094727906,\n",
       "   0.28336516934082195,\n",
       "   0.5994445837251398,\n",
       "   -0.8408550838977682,\n",
       "   -0.23349521835406864,\n",
       "   -0.20050672967867272,\n",
       "   0.27869502155061027,\n",
       "   -0.05167317651304195,\n",
       "   -0.8468234894861938,\n",
       "   -0.7178194018393782,\n",
       "   -0.4680385971479764,\n",
       "   -0.20064632651919134,\n",
       "   0.512867932460646,\n",
       "   0.10846085889962466,\n",
       "   1.1157407463796827,\n",
       "   -0.3576211013287702,\n",
       "   1.1699202293352282,\n",
       "   -0.25934891471587157,\n",
       "   0.09332341252870946,\n",
       "   1.3185086691571402,\n",
       "   0.8905820746134493,\n",
       "   -0.25995438915074587]]}"
      ]
     },
     "execution_count": 4,
     "metadata": {},
     "output_type": "execute_result"
    }
   ],
   "source": [
    "response.json()"
   ]
  },
  {
   "cell_type": "markdown",
   "metadata": {},
   "source": [
    "## Top 10 features"
   ]
  },
  {
   "cell_type": "code",
   "execution_count": 5,
   "metadata": {},
   "outputs": [
    {
     "data": {
      "text/plain": [
       "array([ 4, 10, 14,  3, 26,  8, 11,  7,  5,  6])"
      ]
     },
     "execution_count": 5,
     "metadata": {},
     "output_type": "execute_result"
    }
   ],
   "source": [
    "np.argsort(-abs(np.transpose(response.json()[\"shap_values\"][0])[0]))[:10]"
   ]
  }
 ],
 "metadata": {
  "kernelspec": {
   "display_name": "Python 3",
   "language": "python",
   "name": "python3"
  },
  "language_info": {
   "codemirror_mode": {
    "name": "ipython",
    "version": 3
   },
   "file_extension": ".py",
   "mimetype": "text/x-python",
   "name": "python",
   "nbconvert_exporter": "python",
   "pygments_lexer": "ipython3",
   "version": "3.7.6"
  }
 },
 "nbformat": 4,
 "nbformat_minor": 4
}
