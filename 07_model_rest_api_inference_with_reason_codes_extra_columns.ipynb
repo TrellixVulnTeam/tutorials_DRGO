{
 "cells": [
  {
   "cell_type": "markdown",
   "metadata": {},
   "source": [
    "# Tutorial 7: Test inference + shapley values REST API Endpoint \n",
    "\n",
    "In this notebook, we will demonstrate how to perform inference using an ML model deployed as a REST API endpoint. REST API will also filter columns that are not needed for the prediction. Output of the inference will include  reason codes (shapley values) in addition to the prediction.\n",
    "\n",
    "## Steps\n",
    "- Import requests and pandas libraries. Requests is an elegant and simple HTTP library for Python, built for human beings. More about requests [here](https://docs.python-requests.org/en/latest/)\n",
    "- Create a pandas dataframe for the data on which we want to perform inference\n",
    "- Copy the REST API endpoint from _Models_ tab\n",
    "- Create a json from the pandas dataframe\n",
    "- Add additional columns to test column filter\n",
    "- Create a header for a post request\n",
    "- Perform a post request on the REST API endpoint"
   ]
  },
  {
   "cell_type": "code",
   "execution_count": 10,
   "metadata": {},
   "outputs": [],
   "source": [
    "import requests\n",
    "import pandas as pd\n",
    "import numpy as np"
   ]
  },
  {
   "cell_type": "markdown",
   "metadata": {},
   "source": [
    "## Get test data"
   ]
  },
  {
   "cell_type": "code",
   "execution_count": 11,
   "metadata": {},
   "outputs": [],
   "source": [
    "input_df = pd.read_csv(\"credit_card_test.csv\")\n",
    "y_test = input_df[\"Target\"]\n",
    "X_test = input_df.drop([\"Target\"],axis=1)"
   ]
  },
  {
   "cell_type": "markdown",
   "metadata": {},
   "source": [
    "## Add extra columns to reproduce real case"
   ]
  },
  {
   "cell_type": "code",
   "execution_count": 12,
   "metadata": {},
   "outputs": [],
   "source": [
    "X_test[\"V100\"] = X_test[\"V22\"]\n",
    "X_test[\"V200\"] = X_test[\"V23\"]*0.9"
   ]
  },
  {
   "cell_type": "markdown",
   "metadata": {},
   "source": [
    "## Test REST API Endpoint"
   ]
  },
  {
   "cell_type": "code",
   "execution_count": 13,
   "metadata": {},
   "outputs": [],
   "source": [
    "url = \"https://swxx2f5.rmlpoc.net/invocations\"\n",
    "input_data = X_test.head(1)\n",
    "data_json = input_data.to_json(orient=\"split\",index=False)\n",
    "headers = {\"Content-Type\":\"application/json; format=pandas-split\"}\n",
    "response = requests.post(url,data=data_json,headers=headers)"
   ]
  },
  {
   "cell_type": "code",
   "execution_count": 14,
   "metadata": {},
   "outputs": [
    {
     "data": {
      "text/plain": [
       "{'error_code': 'BAD_REQUEST',\n",
       " 'message': 'Encountered an unexpected error while evaluating the model. Verify that the serialized input Dataframe is compatible with the model for inference.',\n",
       " 'stack_trace': 'Traceback (most recent call last):\\n  File \"/opt/conda/envs/mlflow-cf8f9d83851379cd60e98622997fb01c894b6bbe/lib/python3.7/site-packages/mlflow/pyfunc/scoring_server/__init__.py\", line 303, in transformation\\n    raw_predictions = model.predict(data)\\n  File \"/opt/conda/envs/mlflow-cf8f9d83851379cd60e98622997fb01c894b6bbe/lib/python3.7/site-packages/mlflow/pyfunc/__init__.py\", line 608, in predict\\n    return self._model_impl.predict(data)\\n  File \"/opt/conda/envs/mlflow-cf8f9d83851379cd60e98622997fb01c894b6bbe/lib/python3.7/site-packages/sklearn/utils/metaestimators.py\", line 113, in <lambda>\\n    out = lambda *args, **kwargs: self.fn(obj, *args, **kwargs)  # noqa\\n  File \"/opt/conda/envs/mlflow-cf8f9d83851379cd60e98622997fb01c894b6bbe/lib/python3.7/site-packages/sklearn/pipeline.py\", line 469, in predict\\n    Xt = transform.transform(Xt)\\n  File \"/opt/conda/envs/mlflow-cf8f9d83851379cd60e98622997fb01c894b6bbe/lib/python3.7/site-packages/sklearn/preprocessing/_data.py\", line 980, in transform\\n    force_all_finite=\"allow-nan\",\\n  File \"/opt/conda/envs/mlflow-cf8f9d83851379cd60e98622997fb01c894b6bbe/lib/python3.7/site-packages/sklearn/base.py\", line 580, in _validate_data\\n    self._check_n_features(X, reset=reset)\\n  File \"/opt/conda/envs/mlflow-cf8f9d83851379cd60e98622997fb01c894b6bbe/lib/python3.7/site-packages/sklearn/base.py\", line 396, in _check_n_features\\n    f\"X has {n_features} features, but {self.__class__.__name__} \"\\nValueError: X has 32 features, but StandardScaler is expecting 30 features as input.\\n'}"
      ]
     },
     "execution_count": 14,
     "metadata": {},
     "output_type": "execute_result"
    }
   ],
   "source": [
    "response.json()"
   ]
  }
 ],
 "metadata": {
  "kernelspec": {
   "display_name": "Python 3",
   "language": "python",
   "name": "python3"
  },
  "language_info": {
   "codemirror_mode": {
    "name": "ipython",
    "version": 3
   },
   "file_extension": ".py",
   "mimetype": "text/x-python",
   "name": "python",
   "nbconvert_exporter": "python",
   "pygments_lexer": "ipython3",
   "version": "3.7.6"
  }
 },
 "nbformat": 4,
 "nbformat_minor": 4
}
