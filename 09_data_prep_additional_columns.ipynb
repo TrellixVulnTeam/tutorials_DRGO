{
 "cells": [
  {
   "cell_type": "markdown",
   "metadata": {},
   "source": [
    "# Tutorial 9: Data Preparation to create additional columns with fake data\n",
    "\n",
    "In this notebook, we will demonstrate how to create additional columns using [Faker](https://faker.readthedocs.io/en/master/index.html)\n",
    "\n",
    "## Steps:\n",
    "\n",
    "- Load _creditcard.csv_ into a pandas dataframe\n",
    "- Use faker to generate additional columns corresponding to dates, ip addresses, longitude, latitude etc.\n",
    "- Use sklearn **train_test_split** function along with **stratify** option to split this imbalanced data into test and train data sets\n",
    "- Save the data frames into two separate files: _credit_card_train_new_columns.csv_ , _credit_card_test_new_columns.csv_"
   ]
  },
  {
   "cell_type": "code",
   "execution_count": 51,
   "metadata": {},
   "outputs": [],
   "source": [
    "import pandas as pd\n",
    "from sklearn.model_selection   import  train_test_split\n",
    "from faker import Faker\n",
    "from tqdm import tqdm\n",
    "import random"
   ]
  },
  {
   "cell_type": "code",
   "execution_count": 52,
   "metadata": {},
   "outputs": [],
   "source": [
    "full_path = 'creditcard.csv'\n",
    "# load the dataset\n",
    "data = pd.read_csv(full_path, header=None)\n",
    "y = data.values[:,-1]"
   ]
  },
  {
   "cell_type": "code",
   "execution_count": 53,
   "metadata": {},
   "outputs": [],
   "source": [
    "column_names = [\"V\"+str(i) for i in range(30)]\n",
    "column_names.append(\"Target\")\n",
    "data.columns = column_names"
   ]
  },
  {
   "cell_type": "code",
   "execution_count": 54,
   "metadata": {},
   "outputs": [],
   "source": [
    "Faker.seed(0)\n",
    "fake = Faker()"
   ]
  },
  {
   "cell_type": "markdown",
   "metadata": {},
   "source": [
    "## Generate time pre and time post"
   ]
  },
  {
   "cell_type": "code",
   "execution_count": 55,
   "metadata": {},
   "outputs": [],
   "source": [
    "rows_missing_time_variable = random.sample(range(0,len(data)),100)"
   ]
  },
  {
   "cell_type": "code",
   "execution_count": 56,
   "metadata": {},
   "outputs": [
    {
     "name": "stderr",
     "output_type": "stream",
     "text": [
      "100%|██████████| 284807/284807 [00:16<00:00, 16782.30it/s]\n"
     ]
    }
   ],
   "source": [
    "time_pre_list = list()\n",
    "time_post_list = list()\n",
    "for i in tqdm(range(0,len(data))):\n",
    "    if i not in rows_missing_time_variable:\n",
    "        time_pre  = fake.date_time_between(start_date='-2w',end_date='-1w')\n",
    "        time_post = fake.date_time_between(start_date='-1w')\n",
    "    else:\n",
    "        time_pre = None\n",
    "        time_post = None\n",
    "    time_pre_list.append(time_pre)\n",
    "    time_post_list.append(time_post)"
   ]
  },
  {
   "cell_type": "code",
   "execution_count": 57,
   "metadata": {},
   "outputs": [],
   "source": [
    "data['time_pre'] = time_pre_list\n",
    "data['time_post'] = time_post_list"
   ]
  },
  {
   "cell_type": "markdown",
   "metadata": {},
   "source": [
    "## Generate credit card expiry date"
   ]
  },
  {
   "cell_type": "code",
   "execution_count": 58,
   "metadata": {},
   "outputs": [],
   "source": [
    "rows_missing_cc_expiry_date = random.sample(range(0,len(data)),150)"
   ]
  },
  {
   "cell_type": "code",
   "execution_count": 59,
   "metadata": {},
   "outputs": [
    {
     "name": "stderr",
     "output_type": "stream",
     "text": [
      "100%|██████████| 284807/284807 [00:10<00:00, 26487.43it/s]\n"
     ]
    }
   ],
   "source": [
    "cc_exp_list = list()\n",
    "for i in tqdm(range(0,len(data))):\n",
    "    if i not in rows_missing_cc_expiry_date:\n",
    "        cc_exp = fake.credit_card_expire()\n",
    "    else:\n",
    "        cc_exp = None\n",
    "    cc_exp_list.append(cc_exp)"
   ]
  },
  {
   "cell_type": "code",
   "execution_count": 60,
   "metadata": {},
   "outputs": [],
   "source": [
    "data['cc_exp'] = cc_exp_list"
   ]
  },
  {
   "cell_type": "markdown",
   "metadata": {},
   "source": [
    "## Generate three lat long"
   ]
  },
  {
   "cell_type": "code",
   "execution_count": 61,
   "metadata": {},
   "outputs": [],
   "source": [
    "rows_missing_lat_long = random.sample(range(0,len(data)),200)"
   ]
  },
  {
   "cell_type": "code",
   "execution_count": 62,
   "metadata": {},
   "outputs": [
    {
     "name": "stderr",
     "output_type": "stream",
     "text": [
      "100%|██████████| 284807/284807 [00:09<00:00, 29052.29it/s]\n"
     ]
    }
   ],
   "source": [
    "lat1_list = list()\n",
    "lng1_list = list()\n",
    "lat2_list = list()\n",
    "lng2_list = list()\n",
    "lat3_list = list()\n",
    "lng3_list = list()\n",
    "for i in tqdm(range(0,len(data))):\n",
    "    if i not in rows_missing_lat_long:\n",
    "        lat1, lng1 = fake.latlng()\n",
    "        lat2, lng2 = fake.latlng()\n",
    "        lat3, lng3 = fake.latlng()\n",
    "    else:\n",
    "        lat1, lng1, lat2, lng2, lat3, lng3 = [None]*6\n",
    "    lat1_list.append(lat1)\n",
    "    lng1_list.append(lng1)\n",
    "    lat2_list.append(lat2)\n",
    "    lng2_list.append(lng2)\n",
    "    lat3_list.append(lat3)\n",
    "    lng3_list.append(lng3)"
   ]
  },
  {
   "cell_type": "code",
   "execution_count": 63,
   "metadata": {},
   "outputs": [],
   "source": [
    "data['lat1'] = lat1_list\n",
    "data['long1'] = lng1_list\n",
    "data['lat2'] = lat2_list\n",
    "data['long2'] = lng2_list\n",
    "data['lat3'] = lat3_list\n",
    "data['long3'] = lng3_list"
   ]
  },
  {
   "cell_type": "markdown",
   "metadata": {},
   "source": [
    "## Generate IP addresses"
   ]
  },
  {
   "cell_type": "code",
   "execution_count": 64,
   "metadata": {},
   "outputs": [],
   "source": [
    "rows_missing_ip_addresses = random.sample(range(0,len(data)),120)"
   ]
  },
  {
   "cell_type": "code",
   "execution_count": 65,
   "metadata": {},
   "outputs": [
    {
     "name": "stderr",
     "output_type": "stream",
     "text": [
      "100%|██████████| 284807/284807 [00:12<00:00, 23027.99it/s]\n"
     ]
    }
   ],
   "source": [
    "ip_list = list()\n",
    "for i in tqdm(range(0,len(data))):\n",
    "    if i not in rows_missing_ip_addresses:\n",
    "        ipv4 = fake.ipv4_public()\n",
    "    else:\n",
    "        ipv4 = None\n",
    "    ip_list.append(ipv4)"
   ]
  },
  {
   "cell_type": "code",
   "execution_count": 66,
   "metadata": {},
   "outputs": [],
   "source": [
    "data['ip_address'] = ip_list"
   ]
  },
  {
   "cell_type": "code",
   "execution_count": 67,
   "metadata": {},
   "outputs": [
    {
     "data": {
      "text/html": [
       "<div>\n",
       "<style scoped>\n",
       "    .dataframe tbody tr th:only-of-type {\n",
       "        vertical-align: middle;\n",
       "    }\n",
       "\n",
       "    .dataframe tbody tr th {\n",
       "        vertical-align: top;\n",
       "    }\n",
       "\n",
       "    .dataframe thead th {\n",
       "        text-align: right;\n",
       "    }\n",
       "</style>\n",
       "<table border=\"1\" class=\"dataframe\">\n",
       "  <thead>\n",
       "    <tr style=\"text-align: right;\">\n",
       "      <th></th>\n",
       "      <th>V0</th>\n",
       "      <th>V1</th>\n",
       "      <th>V2</th>\n",
       "      <th>V3</th>\n",
       "      <th>V4</th>\n",
       "      <th>V5</th>\n",
       "      <th>V6</th>\n",
       "      <th>V7</th>\n",
       "      <th>V8</th>\n",
       "      <th>V9</th>\n",
       "      <th>...</th>\n",
       "      <th>time_pre</th>\n",
       "      <th>time_post</th>\n",
       "      <th>cc_exp</th>\n",
       "      <th>lat1</th>\n",
       "      <th>long1</th>\n",
       "      <th>lat2</th>\n",
       "      <th>long2</th>\n",
       "      <th>lat3</th>\n",
       "      <th>long3</th>\n",
       "      <th>ip_address</th>\n",
       "    </tr>\n",
       "  </thead>\n",
       "  <tbody>\n",
       "    <tr>\n",
       "      <th>0</th>\n",
       "      <td>0.0</td>\n",
       "      <td>-1.359807</td>\n",
       "      <td>-0.072781</td>\n",
       "      <td>2.536347</td>\n",
       "      <td>1.378155</td>\n",
       "      <td>-0.338321</td>\n",
       "      <td>0.462388</td>\n",
       "      <td>0.239599</td>\n",
       "      <td>0.098698</td>\n",
       "      <td>0.363787</td>\n",
       "      <td>...</td>\n",
       "      <td>2021-11-21 09:35:20</td>\n",
       "      <td>2021-11-28 19:52:43</td>\n",
       "      <td>05/23</td>\n",
       "      <td>-63.6854615</td>\n",
       "      <td>69.593566</td>\n",
       "      <td>-18.4996875</td>\n",
       "      <td>-38.626559</td>\n",
       "      <td>23.650048</td>\n",
       "      <td>-154.724743</td>\n",
       "      <td>205.48.177.21</td>\n",
       "    </tr>\n",
       "    <tr>\n",
       "      <th>1</th>\n",
       "      <td>0.0</td>\n",
       "      <td>1.191857</td>\n",
       "      <td>0.266151</td>\n",
       "      <td>0.166480</td>\n",
       "      <td>0.448154</td>\n",
       "      <td>0.060018</td>\n",
       "      <td>-0.082361</td>\n",
       "      <td>-0.078803</td>\n",
       "      <td>0.085102</td>\n",
       "      <td>-0.255425</td>\n",
       "      <td>...</td>\n",
       "      <td>2021-11-17 05:10:12</td>\n",
       "      <td>2021-11-26 20:47:35</td>\n",
       "      <td>08/30</td>\n",
       "      <td>85.9337915</td>\n",
       "      <td>-21.013523</td>\n",
       "      <td>-18.980459</td>\n",
       "      <td>87.945413</td>\n",
       "      <td>-31.915749</td>\n",
       "      <td>142.318344</td>\n",
       "      <td>202.112.106.195</td>\n",
       "    </tr>\n",
       "    <tr>\n",
       "      <th>2</th>\n",
       "      <td>1.0</td>\n",
       "      <td>-1.358354</td>\n",
       "      <td>-1.340163</td>\n",
       "      <td>1.773209</td>\n",
       "      <td>0.379780</td>\n",
       "      <td>-0.503198</td>\n",
       "      <td>1.800499</td>\n",
       "      <td>0.791461</td>\n",
       "      <td>0.247676</td>\n",
       "      <td>-1.514654</td>\n",
       "      <td>...</td>\n",
       "      <td>2021-11-22 22:17:52</td>\n",
       "      <td>2021-11-29 14:54:54</td>\n",
       "      <td>07/27</td>\n",
       "      <td>-75.414375</td>\n",
       "      <td>54.554223</td>\n",
       "      <td>71.873338</td>\n",
       "      <td>119.913358</td>\n",
       "      <td>-43.5125265</td>\n",
       "      <td>117.334312</td>\n",
       "      <td>205.171.23.146</td>\n",
       "    </tr>\n",
       "    <tr>\n",
       "      <th>3</th>\n",
       "      <td>1.0</td>\n",
       "      <td>-0.966272</td>\n",
       "      <td>-0.185226</td>\n",
       "      <td>1.792993</td>\n",
       "      <td>-0.863291</td>\n",
       "      <td>-0.010309</td>\n",
       "      <td>1.247203</td>\n",
       "      <td>0.237609</td>\n",
       "      <td>0.377436</td>\n",
       "      <td>-1.387024</td>\n",
       "      <td>...</td>\n",
       "      <td>2021-11-21 15:19:26</td>\n",
       "      <td>2021-11-27 09:43:28</td>\n",
       "      <td>08/27</td>\n",
       "      <td>21.5369055</td>\n",
       "      <td>-27.152603</td>\n",
       "      <td>65.3645265</td>\n",
       "      <td>-24.947704</td>\n",
       "      <td>76.963596</td>\n",
       "      <td>8.058672</td>\n",
       "      <td>152.180.125.189</td>\n",
       "    </tr>\n",
       "    <tr>\n",
       "      <th>4</th>\n",
       "      <td>2.0</td>\n",
       "      <td>-1.158233</td>\n",
       "      <td>0.877737</td>\n",
       "      <td>1.548718</td>\n",
       "      <td>0.403034</td>\n",
       "      <td>-0.407193</td>\n",
       "      <td>0.095921</td>\n",
       "      <td>0.592941</td>\n",
       "      <td>-0.270533</td>\n",
       "      <td>0.817739</td>\n",
       "      <td>...</td>\n",
       "      <td>2021-11-22 12:11:50</td>\n",
       "      <td>2021-11-28 01:40:03</td>\n",
       "      <td>10/22</td>\n",
       "      <td>56.766081</td>\n",
       "      <td>-92.074694</td>\n",
       "      <td>65.3931775</td>\n",
       "      <td>-130.101348</td>\n",
       "      <td>-53.835472</td>\n",
       "      <td>70.285303</td>\n",
       "      <td>79.243.112.212</td>\n",
       "    </tr>\n",
       "    <tr>\n",
       "      <th>...</th>\n",
       "      <td>...</td>\n",
       "      <td>...</td>\n",
       "      <td>...</td>\n",
       "      <td>...</td>\n",
       "      <td>...</td>\n",
       "      <td>...</td>\n",
       "      <td>...</td>\n",
       "      <td>...</td>\n",
       "      <td>...</td>\n",
       "      <td>...</td>\n",
       "      <td>...</td>\n",
       "      <td>...</td>\n",
       "      <td>...</td>\n",
       "      <td>...</td>\n",
       "      <td>...</td>\n",
       "      <td>...</td>\n",
       "      <td>...</td>\n",
       "      <td>...</td>\n",
       "      <td>...</td>\n",
       "      <td>...</td>\n",
       "      <td>...</td>\n",
       "    </tr>\n",
       "    <tr>\n",
       "      <th>284802</th>\n",
       "      <td>172786.0</td>\n",
       "      <td>-11.881118</td>\n",
       "      <td>10.071785</td>\n",
       "      <td>-9.834783</td>\n",
       "      <td>-2.066656</td>\n",
       "      <td>-5.364473</td>\n",
       "      <td>-2.606837</td>\n",
       "      <td>-4.918215</td>\n",
       "      <td>7.305334</td>\n",
       "      <td>1.914428</td>\n",
       "      <td>...</td>\n",
       "      <td>2021-11-18 23:49:51</td>\n",
       "      <td>2021-11-28 05:45:35</td>\n",
       "      <td>11/24</td>\n",
       "      <td>-42.2205045</td>\n",
       "      <td>104.249109</td>\n",
       "      <td>-13.3536955</td>\n",
       "      <td>-33.133730</td>\n",
       "      <td>-57.0392685</td>\n",
       "      <td>-89.593880</td>\n",
       "      <td>218.81.55.204</td>\n",
       "    </tr>\n",
       "    <tr>\n",
       "      <th>284803</th>\n",
       "      <td>172787.0</td>\n",
       "      <td>-0.732789</td>\n",
       "      <td>-0.055080</td>\n",
       "      <td>2.035030</td>\n",
       "      <td>-0.738589</td>\n",
       "      <td>0.868229</td>\n",
       "      <td>1.058415</td>\n",
       "      <td>0.024330</td>\n",
       "      <td>0.294869</td>\n",
       "      <td>0.584800</td>\n",
       "      <td>...</td>\n",
       "      <td>2021-11-23 09:33:43</td>\n",
       "      <td>2021-11-26 15:04:16</td>\n",
       "      <td>02/28</td>\n",
       "      <td>-47.9293045</td>\n",
       "      <td>-175.749861</td>\n",
       "      <td>81.8573765</td>\n",
       "      <td>121.275732</td>\n",
       "      <td>81.6090285</td>\n",
       "      <td>110.545403</td>\n",
       "      <td>47.6.242.78</td>\n",
       "    </tr>\n",
       "    <tr>\n",
       "      <th>284804</th>\n",
       "      <td>172788.0</td>\n",
       "      <td>1.919565</td>\n",
       "      <td>-0.301254</td>\n",
       "      <td>-3.249640</td>\n",
       "      <td>-0.557828</td>\n",
       "      <td>2.630515</td>\n",
       "      <td>3.031260</td>\n",
       "      <td>-0.296827</td>\n",
       "      <td>0.708417</td>\n",
       "      <td>0.432454</td>\n",
       "      <td>...</td>\n",
       "      <td>2021-11-22 17:28:30</td>\n",
       "      <td>2021-11-29 07:26:22</td>\n",
       "      <td>09/29</td>\n",
       "      <td>44.9746255</td>\n",
       "      <td>-104.893998</td>\n",
       "      <td>49.9441675</td>\n",
       "      <td>72.909896</td>\n",
       "      <td>-22.162129</td>\n",
       "      <td>-158.937389</td>\n",
       "      <td>199.170.251.199</td>\n",
       "    </tr>\n",
       "    <tr>\n",
       "      <th>284805</th>\n",
       "      <td>172788.0</td>\n",
       "      <td>-0.240440</td>\n",
       "      <td>0.530483</td>\n",
       "      <td>0.702510</td>\n",
       "      <td>0.689799</td>\n",
       "      <td>-0.377961</td>\n",
       "      <td>0.623708</td>\n",
       "      <td>-0.686180</td>\n",
       "      <td>0.679145</td>\n",
       "      <td>0.392087</td>\n",
       "      <td>...</td>\n",
       "      <td>2021-11-21 18:13:44</td>\n",
       "      <td>2021-11-28 23:46:35</td>\n",
       "      <td>06/26</td>\n",
       "      <td>24.7338885</td>\n",
       "      <td>-109.630949</td>\n",
       "      <td>-6.8203025</td>\n",
       "      <td>-40.904980</td>\n",
       "      <td>-49.857962</td>\n",
       "      <td>146.226254</td>\n",
       "      <td>47.223.108.153</td>\n",
       "    </tr>\n",
       "    <tr>\n",
       "      <th>284806</th>\n",
       "      <td>172792.0</td>\n",
       "      <td>-0.533413</td>\n",
       "      <td>-0.189733</td>\n",
       "      <td>0.703337</td>\n",
       "      <td>-0.506271</td>\n",
       "      <td>-0.012546</td>\n",
       "      <td>-0.649617</td>\n",
       "      <td>1.577006</td>\n",
       "      <td>-0.414650</td>\n",
       "      <td>0.486180</td>\n",
       "      <td>...</td>\n",
       "      <td>2021-11-22 14:14:26</td>\n",
       "      <td>2021-11-30 16:37:18</td>\n",
       "      <td>02/24</td>\n",
       "      <td>-9.814495</td>\n",
       "      <td>-108.373981</td>\n",
       "      <td>-52.736018</td>\n",
       "      <td>124.440346</td>\n",
       "      <td>83.7278235</td>\n",
       "      <td>23.226209</td>\n",
       "      <td>43.199.254.67</td>\n",
       "    </tr>\n",
       "  </tbody>\n",
       "</table>\n",
       "<p>284807 rows × 41 columns</p>\n",
       "</div>"
      ],
      "text/plain": [
       "              V0         V1         V2        V3        V4        V5  \\\n",
       "0            0.0  -1.359807  -0.072781  2.536347  1.378155 -0.338321   \n",
       "1            0.0   1.191857   0.266151  0.166480  0.448154  0.060018   \n",
       "2            1.0  -1.358354  -1.340163  1.773209  0.379780 -0.503198   \n",
       "3            1.0  -0.966272  -0.185226  1.792993 -0.863291 -0.010309   \n",
       "4            2.0  -1.158233   0.877737  1.548718  0.403034 -0.407193   \n",
       "...          ...        ...        ...       ...       ...       ...   \n",
       "284802  172786.0 -11.881118  10.071785 -9.834783 -2.066656 -5.364473   \n",
       "284803  172787.0  -0.732789  -0.055080  2.035030 -0.738589  0.868229   \n",
       "284804  172788.0   1.919565  -0.301254 -3.249640 -0.557828  2.630515   \n",
       "284805  172788.0  -0.240440   0.530483  0.702510  0.689799 -0.377961   \n",
       "284806  172792.0  -0.533413  -0.189733  0.703337 -0.506271 -0.012546   \n",
       "\n",
       "              V6        V7        V8        V9  ...            time_pre  \\\n",
       "0       0.462388  0.239599  0.098698  0.363787  ... 2021-11-21 09:35:20   \n",
       "1      -0.082361 -0.078803  0.085102 -0.255425  ... 2021-11-17 05:10:12   \n",
       "2       1.800499  0.791461  0.247676 -1.514654  ... 2021-11-22 22:17:52   \n",
       "3       1.247203  0.237609  0.377436 -1.387024  ... 2021-11-21 15:19:26   \n",
       "4       0.095921  0.592941 -0.270533  0.817739  ... 2021-11-22 12:11:50   \n",
       "...          ...       ...       ...       ...  ...                 ...   \n",
       "284802 -2.606837 -4.918215  7.305334  1.914428  ... 2021-11-18 23:49:51   \n",
       "284803  1.058415  0.024330  0.294869  0.584800  ... 2021-11-23 09:33:43   \n",
       "284804  3.031260 -0.296827  0.708417  0.432454  ... 2021-11-22 17:28:30   \n",
       "284805  0.623708 -0.686180  0.679145  0.392087  ... 2021-11-21 18:13:44   \n",
       "284806 -0.649617  1.577006 -0.414650  0.486180  ... 2021-11-22 14:14:26   \n",
       "\n",
       "                 time_post  cc_exp         lat1        long1         lat2  \\\n",
       "0      2021-11-28 19:52:43   05/23  -63.6854615    69.593566  -18.4996875   \n",
       "1      2021-11-26 20:47:35   08/30   85.9337915   -21.013523   -18.980459   \n",
       "2      2021-11-29 14:54:54   07/27   -75.414375    54.554223    71.873338   \n",
       "3      2021-11-27 09:43:28   08/27   21.5369055   -27.152603   65.3645265   \n",
       "4      2021-11-28 01:40:03   10/22    56.766081   -92.074694   65.3931775   \n",
       "...                    ...     ...          ...          ...          ...   \n",
       "284802 2021-11-28 05:45:35   11/24  -42.2205045   104.249109  -13.3536955   \n",
       "284803 2021-11-26 15:04:16   02/28  -47.9293045  -175.749861   81.8573765   \n",
       "284804 2021-11-29 07:26:22   09/29   44.9746255  -104.893998   49.9441675   \n",
       "284805 2021-11-28 23:46:35   06/26   24.7338885  -109.630949   -6.8203025   \n",
       "284806 2021-11-30 16:37:18   02/24    -9.814495  -108.373981   -52.736018   \n",
       "\n",
       "              long2         lat3        long3       ip_address  \n",
       "0        -38.626559    23.650048  -154.724743    205.48.177.21  \n",
       "1         87.945413   -31.915749   142.318344  202.112.106.195  \n",
       "2        119.913358  -43.5125265   117.334312   205.171.23.146  \n",
       "3        -24.947704    76.963596     8.058672  152.180.125.189  \n",
       "4       -130.101348   -53.835472    70.285303   79.243.112.212  \n",
       "...             ...          ...          ...              ...  \n",
       "284802   -33.133730  -57.0392685   -89.593880    218.81.55.204  \n",
       "284803   121.275732   81.6090285   110.545403      47.6.242.78  \n",
       "284804    72.909896   -22.162129  -158.937389  199.170.251.199  \n",
       "284805   -40.904980   -49.857962   146.226254   47.223.108.153  \n",
       "284806   124.440346   83.7278235    23.226209    43.199.254.67  \n",
       "\n",
       "[284807 rows x 41 columns]"
      ]
     },
     "execution_count": 67,
     "metadata": {},
     "output_type": "execute_result"
    }
   ],
   "source": [
    "data"
   ]
  },
  {
   "cell_type": "code",
   "execution_count": 68,
   "metadata": {},
   "outputs": [],
   "source": [
    "df_train,df_test = train_test_split(data,test_size=0.2,stratify=y,random_state=42)"
   ]
  },
  {
   "cell_type": "code",
   "execution_count": 72,
   "metadata": {},
   "outputs": [],
   "source": [
    "df_train.to_csv(\"credit_card_train_new_columns.csv\",index=False)\n",
    "df_test.to_csv(\"credit_card_test_new_columns.csv\",index=False)"
   ]
  }
 ],
 "metadata": {
  "kernelspec": {
   "display_name": "Python 3",
   "language": "python",
   "name": "python3"
  },
  "language_info": {
   "codemirror_mode": {
    "name": "ipython",
    "version": 3
   },
   "file_extension": ".py",
   "mimetype": "text/x-python",
   "name": "python",
   "nbconvert_exporter": "python",
   "pygments_lexer": "ipython3",
   "version": "3.7.6"
  }
 },
 "nbformat": 4,
 "nbformat_minor": 4
}
