{
 "cells": [
  {
   "cell_type": "markdown",
   "id": "36936f64-2612-45f2-8e57-0e1550af72ff",
   "metadata": {},
   "source": [
    "# Tutorial 13: Xgboost Model Building\n",
    "This tutorial covers the steps to build a xgboost model and log the model\n",
    "\n",
    "#### Steps\n",
    "- import the required python libraries i.e mlflow and xgboost etc\n",
    "- Get the list of experiments which are already present\n",
    "- Create the experiment if the required experiment is not present\n",
    "- Read the data and split it into Train and Test sets\n",
    "- Manually start the mlflow experiment run\n",
    "- Build the xgboost model using sklearn wrapper API\n",
    "- Build the model signature\n",
    "- Manually log the parameters, tags, model and metrics"
   ]
  },
  {
   "cell_type": "markdown",
   "id": "384a0aed-294e-44d5-bd5b-2d1780de04d9",
   "metadata": {},
   "source": [
    "#### Import the required libraries"
   ]
  },
  {
   "cell_type": "code",
   "execution_count": 1,
   "id": "2cdfc9de-525f-4323-98a8-54d28a914f0b",
   "metadata": {},
   "outputs": [],
   "source": [
    "# Import the required libraries\n",
    "import os\n",
    "import mlflow\n",
    "from mlflow.tracking import MlflowClient\n",
    "import numpy as np\n",
    "import pandas as pd\n",
    "import xgboost\n",
    "from xgboost import XGBRegressor"
   ]
  },
  {
   "cell_type": "markdown",
   "id": "a4db46ad-e63b-41af-86dc-dc996e5153ea",
   "metadata": {},
   "source": [
    "#### Get the list of experiments which already present"
   ]
  },
  {
   "cell_type": "code",
   "execution_count": 2,
   "id": "ae5ee7f4-f9d8-46db-b49e-fbb7d36482b6",
   "metadata": {},
   "outputs": [],
   "source": [
    "from mlflow.tracking import get_tracking_uri\n",
    "# Get the tracking URI\n",
    "tracking_uri = mlflow.get_tracking_uri()\n",
    "\n",
    "# Get the list of existing experiments\n",
    "client = MlflowClient(tracking_uri=tracking_uri)\n",
    "experiments = client.list_experiments()\n",
    "\n",
    "# Extract the experiment names \n",
    "experiment_names = []\n",
    "for exp in experiments:\n",
    "    experiment_names.append(exp.name)"
   ]
  },
  {
   "cell_type": "markdown",
   "id": "959c5d01-a2fc-4d45-ba59-20664eb2d200",
   "metadata": {},
   "source": [
    "#### Create the experiment if it is not present."
   ]
  },
  {
   "cell_type": "code",
   "execution_count": 3,
   "id": "3b261478-bc34-497a-b28f-6466c8191f7d",
   "metadata": {},
   "outputs": [
    {
     "name": "stdout",
     "output_type": "stream",
     "text": [
      "Experiment is present\n",
      "Experiment is set\n"
     ]
    }
   ],
   "source": [
    "# Create experiment if it is not present\n",
    "experiment_name = \"xgboost\"\n",
    "\n",
    "if experiment_name not in experiment_names:\n",
    "    print('Experiment is not present')\n",
    "    experiment_obj = mlflow.create_experiment(name=experiment_name)\n",
    "    experiment = mlflow.get_experiment(experiment_obj)\n",
    "    print('Experiement has been created')\n",
    "else:\n",
    "    print('Experiment is present')\n",
    "    mlflow.set_experiment(experiment_name=experiment_name)\n",
    "    experiment = mlflow.get_experiment_by_name(experiment_name)\n",
    "    print('Experiment is set')"
   ]
  },
  {
   "cell_type": "markdown",
   "id": "c4aad5ac-b31b-47dd-a55d-b9a8f9a4e0bb",
   "metadata": {},
   "source": [
    "#### Print the experiment details"
   ]
  },
  {
   "cell_type": "code",
   "execution_count": 4,
   "id": "d3b49d2b-f1ad-45c4-8a83-9301747db891",
   "metadata": {},
   "outputs": [
    {
     "name": "stdout",
     "output_type": "stream",
     "text": [
      "Experiment Name: xgboost\n",
      "Experiment_id: 11\n",
      "Artifact Location: s3://rml-model-artifacts/users/csvishnumurthy/11\n"
     ]
    }
   ],
   "source": [
    "print(\"Experiment Name: {}\".format(experiment.name))\n",
    "Diabetes_Exp_Id = experiment.experiment_id\n",
    "print(\"Experiment_id: {}\".format(experiment.experiment_id))\n",
    "print(\"Artifact Location: {}\".format(experiment.artifact_location))"
   ]
  },
  {
   "cell_type": "markdown",
   "id": "e494b517-04f0-429f-9e3e-70d56b7fdbd4",
   "metadata": {},
   "source": [
    "#### Download the Diabetes data"
   ]
  },
  {
   "cell_type": "code",
   "execution_count": 5,
   "id": "527f83e6-49d3-4a88-aa45-e84710391652",
   "metadata": {},
   "outputs": [
    {
     "name": "stdout",
     "output_type": "stream",
     "text": [
      "['db1' 'db2' 'db3' 'db4' 'db5' 'db6' 'db7' 'db8' 'db9' 'db10']\n",
      "['Target']\n"
     ]
    }
   ],
   "source": [
    "# Download Diabetes data\n",
    "from sklearn.model_selection import train_test_split\n",
    "from sklearn.datasets import load_diabetes\n",
    "from sklearn.tree import DecisionTreeRegressor\n",
    "\n",
    "db = load_diabetes()\n",
    "db_df_Ind = pd.DataFrame(db.data,columns=[\"db1\",\"db2\",\"db3\",\"db4\",\"db5\",\"db6\",\"db7\",\"db8\",\"db9\",\"db10\"])\n",
    "db_df_Target = pd.DataFrame(db.target,columns=[\"Target\"])\n",
    "print(db_df_Ind.columns.values)\n",
    "print(db_df_Target.columns.values)"
   ]
  },
  {
   "cell_type": "markdown",
   "id": "0b117826-56bc-43a7-8d21-4a3c75eae0d5",
   "metadata": {},
   "source": [
    "#### Split the data into Train & Test sets"
   ]
  },
  {
   "cell_type": "code",
   "execution_count": 6,
   "id": "b4a03688-c40b-4a5f-8b79-05a01d5f1151",
   "metadata": {},
   "outputs": [],
   "source": [
    "X_train, X_test, y_train, y_test = train_test_split(db_df_Ind, db_df_Target,\n",
    "                                                    test_size=0.20,\n",
    "                                                    random_state=10)"
   ]
  },
  {
   "cell_type": "markdown",
   "id": "4b3b7096-d9ac-4a46-b8c8-b231de232e9a",
   "metadata": {},
   "source": [
    "#### Build the model and log it"
   ]
  },
  {
   "cell_type": "code",
   "execution_count": 7,
   "id": "dfc1553c-5295-4456-b00e-be728105b6ea",
   "metadata": {},
   "outputs": [
    {
     "name": "stdout",
     "output_type": "stream",
     "text": [
      "[05:30:30] DEBUG: ../src/gbm/gbtree.cc:155: Using tree method: 2\n",
      "[05:30:30] INFO: ../src/tree/updater_prune.cc:101: tree pruning end, 2 extra nodes, 0 pruned nodes, max_depth=1\n",
      "[05:30:30] INFO: ../src/tree/updater_prune.cc:101: tree pruning end, 2 extra nodes, 0 pruned nodes, max_depth=1\n",
      "[05:30:30] INFO: ../src/tree/updater_prune.cc:101: tree pruning end, 2 extra nodes, 0 pruned nodes, max_depth=1\n",
      "[05:30:30] INFO: ../src/tree/updater_prune.cc:101: tree pruning end, 2 extra nodes, 0 pruned nodes, max_depth=1\n",
      "[05:30:30] INFO: ../src/tree/updater_prune.cc:101: tree pruning end, 2 extra nodes, 0 pruned nodes, max_depth=1\n",
      "[05:30:30] INFO: ../src/tree/updater_prune.cc:101: tree pruning end, 2 extra nodes, 0 pruned nodes, max_depth=1\n",
      "[05:30:30] INFO: ../src/tree/updater_prune.cc:101: tree pruning end, 2 extra nodes, 0 pruned nodes, max_depth=1\n",
      "[05:30:30] INFO: ../src/tree/updater_prune.cc:101: tree pruning end, 2 extra nodes, 0 pruned nodes, max_depth=1\n",
      "[05:30:30] INFO: ../src/tree/updater_prune.cc:101: tree pruning end, 2 extra nodes, 0 pruned nodes, max_depth=1\n",
      "[05:30:30] INFO: ../src/tree/updater_prune.cc:101: tree pruning end, 2 extra nodes, 0 pruned nodes, max_depth=1\n",
      "[05:30:30] ======== Monitor (0): Learner ========\n",
      "[05:30:30] Configure: 0s, 1 calls @ 0us\n",
      "\n",
      "[05:30:30] EvalOneIter: 2.2e-05s, 10 calls @ 22us\n",
      "\n",
      "[05:30:30] GetGradient: 0.000249s, 10 calls @ 249us\n",
      "\n",
      "[05:30:30] PredictRaw: 0.006466s, 10 calls @ 6466us\n",
      "\n",
      "[05:30:30] UpdateOneIter: 0.008928s, 10 calls @ 8928us\n",
      "\n",
      "[05:30:30] ======== Monitor (0): GBTree ========\n",
      "[05:30:30] BoostNewTrees: 0.002601s, 10 calls @ 2601us\n",
      "\n",
      "[05:30:30] CommitModel: 5e-06s, 10 calls @ 5us\n",
      "\n",
      "[05:30:30] ======== Monitor (0): TreePruner ========\n",
      "[05:30:30] PrunerUpdate: 0.001693s, 10 calls @ 1693us\n",
      "\n"
     ]
    }
   ],
   "source": [
    "# start the experiment run\n",
    "run = mlflow.start_run(experiment_id=Diabetes_Exp_Id,\n",
    "                 tags= {'Alogirthm':'xgboost'},\n",
    "                 run_name = 'xgboost with sklearn logmodel')\n",
    "\n",
    "# Build the model\n",
    "XGB2 = XGBRegressor(n_estimators = 10,max_depth=1,learning_rate=0.05,\n",
    "                   objective='reg:squarederror', booster='gbtree', verbosity=3)\n",
    "XGB2.fit(X_train, y_train)\n",
    "\n",
    "# Create signature\n",
    "from mlflow.models.signature import infer_signature\n",
    "signature = infer_signature(X_train, XGB2.predict(X_train))\n",
    "\n",
    "# Manually Log parameters & tags\n",
    "parms = {\"n_estimators\": 10,\n",
    "         \"max_depth\" : 1,\n",
    "         \"learning_rate\" : 0.05}\n",
    "#metrics = {\"Metric1\": 2500.00, \"Metric2\": 50.00}\n",
    "tags = {\"Algorithm\": \"xgboost\",\n",
    "        \"Loggin Method\": \"Manual\"}\n",
    "\n",
    "mlflow.log_params(parms)\n",
    "mlflow.set_tags(tags)\n",
    "mlflow.sklearn.log_model(sk_model=XGB2,artifact_path =\"model\", \n",
    "                         signature=signature,\n",
    "                         input_example=X_train.head(1))\n",
    "mlflow.sklearn.eval_and_log_metrics(model=XGB2, X=X_test, y_true=y_test,\n",
    "                                    prefix = 'xgb_',sample_weight=None)\n",
    "\n",
    "mlflow.end_run()"
   ]
  },
  {
   "cell_type": "code",
   "execution_count": null,
   "id": "f0079c55-efc9-46b7-9ca0-d789456f61aa",
   "metadata": {},
   "outputs": [],
   "source": []
  }
 ],
 "metadata": {
  "kernelspec": {
   "display_name": "Python 3 (ipykernel)",
   "language": "python",
   "name": "python3"
  },
  "language_info": {
   "codemirror_mode": {
    "name": "ipython",
    "version": 3
   },
   "file_extension": ".py",
   "mimetype": "text/x-python",
   "name": "python",
   "nbconvert_exporter": "python",
   "pygments_lexer": "ipython3",
   "version": "3.7.10"
  }
 },
 "nbformat": 4,
 "nbformat_minor": 5
}
