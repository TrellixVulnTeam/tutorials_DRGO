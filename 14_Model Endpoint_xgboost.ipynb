{
 "cells": [
  {
   "cell_type": "markdown",
   "id": "90c84097-c247-43b7-bc37-b697c4fe1d65",
   "metadata": {},
   "source": [
    "# Tutorial 13: Xgboost Model Testing\n",
    "\n",
    "In this notebook, we will demonstrate how to perform inference using an ML model deployed as a REST API endpoint. This model has been created using Tutorial 12\n",
    "\n",
    "## Steps\n",
    "- Import requests and pandas libraries. Requests is an elegant and simple HTTP library for Python, built for human beings. More about requests here\n",
    "- Create a pandas dataframe for the data on which we want to perform inference\n",
    "- Copy the REST API endpoint from Models tab (i.e. model has been converted as docker container)\n",
    "- Create a json from the pandas dataframe\n",
    "- Create a header for a post request\n",
    "- Perform a post request on the REST API endpoint"
   ]
  },
  {
   "cell_type": "code",
   "execution_count": 1,
   "id": "c0f31f6a-ecee-4fac-9b88-543bba17536b",
   "metadata": {},
   "outputs": [],
   "source": [
    "import requests\n",
    "import pandas as pd\n",
    "import numpy as np"
   ]
  },
  {
   "cell_type": "markdown",
   "id": "bed4604d-5bb0-4192-8b7c-077a354aa005",
   "metadata": {},
   "source": [
    "### Get the required data"
   ]
  },
  {
   "cell_type": "code",
   "execution_count": 2,
   "id": "36ea7f28-3991-442e-9f62-ff7434cd6b65",
   "metadata": {},
   "outputs": [
    {
     "name": "stdout",
     "output_type": "stream",
     "text": [
      "['db1' 'db2' 'db3' 'db4' 'db5' 'db6' 'db7' 'db8' 'db9' 'db10']\n",
      "['Target']\n"
     ]
    }
   ],
   "source": [
    "# Download the data set\n",
    "from sklearn.model_selection import train_test_split\n",
    "from sklearn.datasets import load_diabetes\n",
    "from sklearn.tree import DecisionTreeRegressor\n",
    "\n",
    "db = load_diabetes()\n",
    "db_df_Ind = pd.DataFrame(db.data,columns=[\"db1\",\"db2\",\"db3\",\"db4\",\"db5\",\"db6\",\"db7\",\"db8\",\"db9\",\"db10\"])\n",
    "db_df_Target = pd.DataFrame(db.target,columns=[\"Target\"])\n",
    "print(db_df_Ind.columns.values)\n",
    "print(db_df_Target.columns.values)"
   ]
  },
  {
   "cell_type": "markdown",
   "id": "87867e2d-3a46-4d93-ba09-8fee3f3b0ffe",
   "metadata": {},
   "source": [
    "#### Split the data into train and test"
   ]
  },
  {
   "cell_type": "code",
   "execution_count": 3,
   "id": "86e29237-6ae1-4426-909e-28e1fb7761a7",
   "metadata": {},
   "outputs": [],
   "source": [
    "X_train, X_test, y_train, y_test = train_test_split(db_df_Ind, db_df_Target,\n",
    "                                                    test_size=0.20,\n",
    "                                                    random_state=10)"
   ]
  },
  {
   "cell_type": "markdown",
   "id": "c65d5320-e9ad-4143-b51d-28195ad42fd0",
   "metadata": {},
   "source": [
    "#### Send HTTP post request to the model end point"
   ]
  },
  {
   "cell_type": "code",
   "execution_count": 4,
   "id": "9f17039a-1492-421a-8634-a7b79bb00cde",
   "metadata": {},
   "outputs": [],
   "source": [
    "url = \"https://wfav8nq.ostack.babyrocket.net/invocations\"\n",
    "data_json = X_test.head(5).to_json(orient=\"split\",index=False)\n",
    "headers = {\"Content-Type\":\"application/json; format=pandas-split\"}\n",
    "response = requests.post(url,data=data_json,headers=headers)"
   ]
  },
  {
   "cell_type": "code",
   "execution_count": 5,
   "id": "9be9883a-abb0-4c6f-94bf-53ce2dfed1c1",
   "metadata": {},
   "outputs": [
    {
     "data": {
      "text/plain": [
       "[66.90265655517578,\n",
       " 81.18287658691406,\n",
       " 77.67308044433594,\n",
       " 45.194210052490234,\n",
       " 81.18287658691406]"
      ]
     },
     "execution_count": 5,
     "metadata": {},
     "output_type": "execute_result"
    }
   ],
   "source": [
    "# Print the response\n",
    "response.json()"
   ]
  },
  {
   "cell_type": "code",
   "execution_count": null,
   "id": "4895cd87-db0a-4045-8b25-8da2d932bd7e",
   "metadata": {},
   "outputs": [],
   "source": []
  }
 ],
 "metadata": {
  "kernelspec": {
   "display_name": "Python 3 (ipykernel)",
   "language": "python",
   "name": "python3"
  },
  "language_info": {
   "codemirror_mode": {
    "name": "ipython",
    "version": 3
   },
   "file_extension": ".py",
   "mimetype": "text/x-python",
   "name": "python",
   "nbconvert_exporter": "python",
   "pygments_lexer": "ipython3",
   "version": "3.7.10"
  }
 },
 "nbformat": 4,
 "nbformat_minor": 5
}
