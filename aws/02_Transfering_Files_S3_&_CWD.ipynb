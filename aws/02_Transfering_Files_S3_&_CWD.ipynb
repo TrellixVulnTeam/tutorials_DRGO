{
 "cells": [
  {
   "cell_type": "markdown",
   "id": "91c133ab-5169-4d1e-9c82-ac5e565e9493",
   "metadata": {},
   "source": [
    "# Tutorial: Reading from and Writing to S3 bucket using Boto3\n",
    "1) Create a boto3 client for S3 bucket for a given AWS region\n",
    "2) Download a file from S3 bucket to working directory\n",
    "3) Upload a file from working directory to S3 bucket"
   ]
  },
  {
   "cell_type": "code",
   "execution_count": 5,
   "id": "9075143f-6edb-4503-b3d2-cd4f514d82e2",
   "metadata": {},
   "outputs": [],
   "source": [
    "import boto3\n",
    "import pandas as pd\n",
    "import os"
   ]
  },
  {
   "cell_type": "markdown",
   "id": "21ed4062-f9d8-4d5c-a93d-691a863fc43f",
   "metadata": {},
   "source": [
    "## Create a Boto 3 client for S3 for a given region"
   ]
  },
  {
   "cell_type": "code",
   "execution_count": 6,
   "id": "4529ba81-b010-4640-8b0b-231c3e759115",
   "metadata": {},
   "outputs": [],
   "source": [
    "resource = 's3'\n",
    "region = 'us-east-2'\n",
    "s3_client = boto3.client(service_name=resource,region_name=region)"
   ]
  },
  {
   "cell_type": "markdown",
   "id": "f00b7066-cdbd-421c-830e-253edeb39a5d",
   "metadata": {},
   "source": [
    "## Define a function to get the file from S3 to the working directory"
   ]
  },
  {
   "cell_type": "code",
   "execution_count": 7,
   "id": "132a2ba0-3400-4c36-8725-e1ce61461e39",
   "metadata": {},
   "outputs": [],
   "source": [
    "def S3toCWD(bucket, objectkey, filename):\n",
    "    s3_client.download_file(Bucket = bucket, Key=objectkey, Filename=Filename)\n",
    "\n",
    "    # Verify if the file exists in the working directory\n",
    "    if os.path.isfile(Filename) == True :\n",
    "        print(Filename, \"has been saved in the working directory\")\n",
    "    else:\n",
    "        print(Filename, \"is not present in the working directory\")"
   ]
  },
  {
   "cell_type": "markdown",
   "id": "f7a2e0a1-b576-4ca2-9466-8f9a52b6790d",
   "metadata": {},
   "source": [
    "## Download a file from S3 and store in the working directory\n",
    "- If the file is already present in the working directory, it overwrites it"
   ]
  },
  {
   "cell_type": "code",
   "execution_count": 8,
   "id": "561a1cee-0e04-4fc1-87a1-ea4b7299a787",
   "metadata": {},
   "outputs": [
    {
     "name": "stdout",
     "output_type": "stream",
     "text": [
      "IT_Companies_From_S3.csv has been saved in the working directory\n"
     ]
    }
   ],
   "source": [
    "bucket = 'mk-logs-from-cloudwatch'       # s3 bucket name\n",
    "objectkey = 'IT_Companies.csv'         # object name in the S3 bucket\n",
    "Filename = 'IT_Companies_From_S3.csv'    # Name of the file that is to be stored in working directory\n",
    "\n",
    "S3toCWD(bucket, objectkey, Filename)"
   ]
  },
  {
   "cell_type": "markdown",
   "id": "d6df0240-1671-4578-a240-0d6956fd64d8",
   "metadata": {},
   "source": [
    "## Define a function to get file from working directory to the S3 bucket"
   ]
  },
  {
   "cell_type": "code",
   "execution_count": 24,
   "id": "9ac10642-dae0-42bd-b031-b648d9f25133",
   "metadata": {},
   "outputs": [],
   "source": [
    "def CWDtoS3(filename, bucket, objectkeY):\n",
    "    s3_client.upload_file(Filename=filename,Bucket=bucket,Key=objectkey)\n",
    "\n",
    "    # Verify if the file is present in the S3 bucket\n",
    "    for item in s3_client.list_objects(Bucket=bucket).items():\n",
    "        if item[0] == 'Contents':\n",
    "            for listitem in item[1]:\n",
    "                if listitem['Key'] == objectkey:\n",
    "                    print(objectkey, 'has been saved in the S3 bucket')\n",
    "                    break\n",
    "            else:\n",
    "                print(objectkey, 'is not present in the S3 bucket')"
   ]
  },
  {
   "cell_type": "markdown",
   "id": "9cb2247d-f032-42bb-b138-01e59f860769",
   "metadata": {},
   "source": [
    "## Upload a file from working directory to S3"
   ]
  },
  {
   "cell_type": "code",
   "execution_count": 29,
   "id": "86610aae-62c5-4d1f-a95d-a5bd0b50a19c",
   "metadata": {},
   "outputs": [
    {
     "name": "stdout",
     "output_type": "stream",
     "text": [
      "Report_fromCWD.txt has been saved in the S3 bucket\n"
     ]
    }
   ],
   "source": [
    "filename = 'report.txt'              # Name of the file present in working directory\n",
    "bucket = 'mk-logs-from-cloudwatch'       # s3 bucket name\n",
    "objectkey = 'Report_fromCWD.txt'     # name of the file to be written in the S3 bucket\n",
    "\n",
    "CWDtoS3(filename,bucket,objectkey)"
   ]
  },
  {
   "cell_type": "code",
   "execution_count": null,
   "id": "52935c65-82ed-45e4-844a-5898862ad316",
   "metadata": {},
   "outputs": [],
   "source": []
  }
 ],
 "metadata": {
  "kernelspec": {
   "display_name": "Python 3",
   "language": "python",
   "name": "python3"
  },
  "language_info": {
   "codemirror_mode": {
    "name": "ipython",
    "version": 3
   },
   "file_extension": ".py",
   "mimetype": "text/x-python",
   "name": "python",
   "nbconvert_exporter": "python",
   "pygments_lexer": "ipython3",
   "version": "3.7.12"
  }
 },
 "nbformat": 4,
 "nbformat_minor": 5
}
